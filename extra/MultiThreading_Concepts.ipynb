{
 "cells": [
  {
   "cell_type": "markdown",
   "metadata": {
    "pycharm": {
     "name": "#%%\n"
    }
   },
   "source": [
    "# Threading\n",
    "\n",
    "- Thread is helpful for doing things faster (speed up program)\n",
    "- Speed ups are not guaranteed\n",
    "- Thread are generally used when doing IO bound tasks like reading/writing file, downloading stuffs from the internet"
   ]
  },
  {
   "cell_type": "code",
   "execution_count": 1,
   "metadata": {},
   "outputs": [
    {
     "name": "stdout",
     "output_type": "stream",
     "text": [
      "Sleeping for 1 second\n",
      "Done sleeping\n",
      "Sleeping for 1 second\n",
      "Done sleeping\n",
      "Finished in 2.01 second(s)\n"
     ]
    }
   ],
   "source": [
    "# Synchronous\n",
    "\n",
    "import time\n",
    "\n",
    "start = time.perf_counter()\n",
    "\n",
    "def do_something() -> None:\n",
    "    print(\"Sleeping for 1 second\")\n",
    "    time.sleep(1) # This means we are doing some IO bound tasks\n",
    "    print(\"Done sleeping\")\n",
    "    \n",
    "do_something()\n",
    "do_something()\n",
    "\n",
    "finish = time.perf_counter()\n",
    "\n",
    "print(f\"Finished in {round(finish-start, 2)} second(s)\")"
   ]
  },
  {
   "cell_type": "code",
   "execution_count": 2,
   "metadata": {},
   "outputs": [
    {
     "name": "stdout",
     "output_type": "stream",
     "text": [
      "Sleeping for 1 second\n",
      "Sleeping for 1 second\n",
      "Finished in 0.0 second(s)\n"
     ]
    }
   ],
   "source": [
    "# Making it asynchronous using threads\n",
    "\n",
    "import threading\n",
    "import time\n",
    "\n",
    "start = time.perf_counter()\n",
    "\n",
    "def do_something() -> None:\n",
    "    print(\"Sleeping for 1 second\")\n",
    "    time.sleep(1) # This means we are doing some IO bound tasks\n",
    "    print(\"Done sleeping\")\n",
    "    \n",
    "t1 = threading.Thread(target=do_something)\n",
    "t2 = threading.Thread(target=do_something)\n",
    "\n",
    "t1.start()\n",
    "t2.start()\n",
    "\n",
    "finish = time.perf_counter()\n",
    "\n",
    "print(f\"Finished in {round(finish-start, 2)} second(s)\")"
   ]
  },
  {
   "cell_type": "markdown",
   "metadata": {},
   "source": [
    "As you can see in above cell that `Finished in 0.0 second(s)` appeard first and only shows `0.0 second(s)` which is not the expected behavoiur. This is because when we start our each thread using the `start()` method, we only kicked off thread but didn't wait for our task to finish. To wait for our thread we'll use the `join()` method."
   ]
  },
  {
   "cell_type": "code",
   "execution_count": 3,
   "metadata": {},
   "outputs": [
    {
     "name": "stdout",
     "output_type": "stream",
     "text": [
      "Sleeping for 1 second\n",
      "Sleeping for 1 second\n",
      "Done sleeping\n",
      "Done sleeping\n",
      "Done sleepingDone sleeping\n",
      "\n",
      "Finished in 1.0 second(s)\n"
     ]
    }
   ],
   "source": [
    "# Making it asynchronous using threads\n",
    "\n",
    "import threading\n",
    "import time\n",
    "\n",
    "start = time.perf_counter()\n",
    "\n",
    "def do_something() -> None:\n",
    "    print(\"Sleeping for 1 second\", flush=True)\n",
    "    time.sleep(1) # This means we are doing some IO bound tasks\n",
    "    print(\"Done sleeping\", end=\"\\n\", flush=True)\n",
    "    \n",
    "t1 = threading.Thread(target=do_something)\n",
    "t2 = threading.Thread(target=do_something)\n",
    "\n",
    "# Start the thread\n",
    "t1.start()\n",
    "t2.start()\n",
    "\n",
    "# Wait for each thread to complete\n",
    "t1.join()\n",
    "t2.join()\n",
    "\n",
    "finish = time.perf_counter()\n",
    "\n",
    "print(f\"Finished in {round(finish-start, 2)} second(s)\")"
   ]
  },
  {
   "cell_type": "markdown",
   "metadata": {},
   "source": [
    "Running threaded tasks multiple times can be done by using loop."
   ]
  },
  {
   "cell_type": "code",
   "execution_count": 4,
   "metadata": {
    "scrolled": false
   },
   "outputs": [
    {
     "name": "stdout",
     "output_type": "stream",
     "text": [
      "Sleeping for 1 second\n",
      "Sleeping for 1 secondSleeping for 1 second\n",
      "\n",
      "Sleeping for 1 second\n",
      "Sleeping for 1 secondSleeping for 1 second\n",
      "Sleeping for 1 secondSleeping for 1 second\n",
      "\n",
      "\n",
      "Sleeping for 1 secondSleeping for 1 second\n",
      "\n",
      "Done sleepingDone sleeping\n",
      "Done sleepingDone sleepingDone sleepingDone sleepingDone sleepingDone sleeping\n",
      "\n",
      "Done sleeping\n",
      "\n",
      "Done sleeping\n",
      "\n",
      "\n",
      "\n",
      "\n",
      "Finished in 1.51 second(s)\n"
     ]
    }
   ],
   "source": [
    "# Running multiple threads with argument\n",
    "\n",
    "import threading\n",
    "import time\n",
    "\n",
    "start = time.perf_counter()\n",
    "\n",
    "def do_something(n_sec: int) -> None:\n",
    "    \"\"\" A arbitary function that does something\n",
    "    \n",
    "    Args:\n",
    "        n_sec: Number of seconds we want to sleep\n",
    "    \"\"\"\n",
    "    print(\"Sleeping for 1 second\", flush=True)\n",
    "    time.sleep(n_sec) # This means we are doing some IO bound tasks\n",
    "    print(\"Done sleeping\", end=\"\\n\", flush=True)\n",
    "    \n",
    "threads = [] # a list to maintain all thread objects\n",
    "\n",
    "for _ in range(10):\n",
    "    t = threading.Thread(target=do_something, args=(1.5,))\n",
    "    t.start() # start every thread\n",
    "    threads.append(t)\n",
    "    \n",
    "for thread in threads:\n",
    "    thread.join() # Wait for every thread to complete\n",
    "\n",
    "finish = time.perf_counter()\n",
    "\n",
    "print(f\"Finished in {round(finish-start, 2)} second(s)\")"
   ]
  },
  {
   "cell_type": "markdown",
   "metadata": {},
   "source": [
    "## After Python3.2 we have a ThreadPoolExecutor"
   ]
  },
  {
   "cell_type": "code",
   "execution_count": 5,
   "metadata": {},
   "outputs": [
    {
     "name": "stdout",
     "output_type": "stream",
     "text": [
      "Sleeping for 1.5 second\n",
      "Done sleeping\n",
      "Finished in 1.5 second(s)\n"
     ]
    }
   ],
   "source": [
    "from concurrent.futures import ThreadPoolExecutor as Executor\n",
    "\n",
    "import time\n",
    "\n",
    "start = time.perf_counter()\n",
    "\n",
    "def do_something(n_sec: int) -> str:\n",
    "    \"\"\" A arbitary function that does something\n",
    "    \n",
    "    Args:\n",
    "        n_sec: Number of seconds we want to sleep\n",
    "    \"\"\"\n",
    "    print(f\"Sleeping for {n_sec} second\", flush=True)\n",
    "    time.sleep(n_sec) # This means we are doing some IO bound tasks\n",
    "    return \"Done sleeping\"\n",
    "    \n",
    "with Executor() as executor:\n",
    "    # Submit is used when we want to execute jobs one at a time\n",
    "    # The submit() method returns a Future object\n",
    "    \n",
    "    # Future object encapsulates the execution of our \n",
    "    # function and allows us to check in on it after it's \n",
    "    # scheduled whether it's executing or returning any values\n",
    "    f1 = executor.submit(do_something, 1.5) \n",
    "    print(f1.result())\n",
    "\n",
    "finish = time.perf_counter()\n",
    "\n",
    "print(f\"Finished in {round(finish-start, 2)} second(s)\")"
   ]
  },
  {
   "cell_type": "code",
   "execution_count": 6,
   "metadata": {
    "scrolled": true
   },
   "outputs": [
    {
     "name": "stdout",
     "output_type": "stream",
     "text": [
      "Sleeping for 5 second\n",
      "Sleeping for 4 second\n",
      "Sleeping for 3 second\n",
      "Sleeping for 2 second\n",
      "Sleeping for 1 second\n",
      "Done sleeping 1\n",
      "Done sleeping 2\n",
      "Done sleeping 3\n",
      "Done sleeping 4\n",
      "Done sleeping 5\n",
      "Finished in 5.01 second(s)\n"
     ]
    }
   ],
   "source": [
    "# Doing thread pool executor multiple times\n",
    "\n",
    "import concurrent.futures as cf\n",
    "import time\n",
    "\n",
    "start = time.perf_counter()\n",
    "\n",
    "def do_something(n_sec: int) -> str:\n",
    "    \"\"\" A arbitary function that does something\n",
    "    \n",
    "    Args:\n",
    "        n_sec: Number of seconds we want to sleep\n",
    "    \"\"\"\n",
    "    print(f\"Sleeping for {n_sec} second\", flush=True)\n",
    "    time.sleep(n_sec) # This means we are doing some IO bound tasks\n",
    "    return f\"Done sleeping {n_sec}\"\n",
    "    \n",
    "with cf.ThreadPoolExecutor() as executor:\n",
    "    seconds = [5, 4, 3, 2, 1]\n",
    "    results = [executor.submit(do_something, sec) for sec in seconds]\n",
    "    \n",
    "    # as_completed yields results in order they are completed\n",
    "    for f in cf.as_completed(results):\n",
    "        print(f.result())\n",
    "\n",
    "finish = time.perf_counter()\n",
    "\n",
    "print(f\"Finished in {round(finish-start, 2)} second(s)\")"
   ]
  },
  {
   "cell_type": "code",
   "execution_count": 7,
   "metadata": {},
   "outputs": [
    {
     "name": "stdout",
     "output_type": "stream",
     "text": [
      "Sleeping for 5 second\n",
      "Sleeping for 4 second\n",
      "Sleeping for 3 second\n",
      "Sleeping for 2 second\n",
      "Sleeping for 1 second\n",
      "Done sleeping 5\n",
      "Done sleeping 4\n",
      "Done sleeping 3\n",
      "Done sleeping 2\n",
      "Done sleeping 1\n",
      "Finished in 5.01 second(s)\n"
     ]
    }
   ],
   "source": [
    "# Doing thread pool executor multiple times\n",
    "\n",
    "import concurrent.futures as cf\n",
    "import time\n",
    "\n",
    "start = time.perf_counter()\n",
    "\n",
    "def do_something(n_sec: int) -> str:\n",
    "    \"\"\" A arbitary function that does something\n",
    "    \n",
    "    Args:\n",
    "        n_sec: Number of seconds we want to sleep\n",
    "    \"\"\"\n",
    "    print(f\"Sleeping for {n_sec} second\", flush=True)\n",
    "    time.sleep(n_sec) # This means we are doing some IO bound tasks\n",
    "    return f\"Done sleeping {n_sec}\"\n",
    "    \n",
    "with cf.ThreadPoolExecutor() as executor:\n",
    "    seconds = [5, 4, 3, 2, 1]\n",
    "    \n",
    "    # map returns results in order they are started\n",
    "    results = executor.map(do_something, seconds) \n",
    "    \n",
    "    # as_completed yields results as they complete in our future object\n",
    "    for result in results:\n",
    "        print(result)\n",
    "\n",
    "finish = time.perf_counter()\n",
    "\n",
    "print(f\"Finished in {round(finish-start, 2)} second(s)\")"
   ]
  },
  {
   "cell_type": "code",
   "execution_count": 8,
   "metadata": {},
   "outputs": [
    {
     "name": "stdout",
     "output_type": "stream",
     "text": [
      "Dividing 5 by 2Dividing 4 by 1\n",
      "Dividing 3 by 4\n",
      "Dividing 2 by 0\n",
      "\n",
      "Dividing 1 by 6\n",
      "0.16666666666666666\n",
      "0.75\n",
      "Exception occurred)\n",
      "Traceback (most recent call last):\n",
      "  File \"<ipython-input-8-b1dc594d15d8>\", line 28, in <module>\n",
      "    print(f.result())\n",
      "  File \"/Users/sagar-giri/opt/anaconda3/lib/python3.7/concurrent/futures/_base.py\", line 428, in result\n",
      "    return self.__get_result()\n",
      "  File \"/Users/sagar-giri/opt/anaconda3/lib/python3.7/concurrent/futures/_base.py\", line 384, in __get_result\n",
      "    raise self._exception\n",
      "  File \"/Users/sagar-giri/opt/anaconda3/lib/python3.7/concurrent/futures/thread.py\", line 57, in run\n",
      "    result = self.fn(*self.args, **self.kwargs)\n",
      "  File \"<ipython-input-8-b1dc594d15d8>\", line 17, in divide\n",
      "    div_result = numerator/denominator\n",
      "ZeroDivisionError: division by zero\n",
      "\n",
      "4.0\n",
      "2.5\n",
      "Finished in 0.01 second(s)\n"
     ]
    }
   ],
   "source": [
    "# Handling exception while doing thread pool executor multiple times\n",
    "\n",
    "import concurrent.futures as cf\n",
    "import time\n",
    "import traceback\n",
    "\n",
    "start = time.perf_counter()\n",
    "\n",
    "def divide(numerator: int, denominator: int) -> float:\n",
    "    \"\"\" A function that does magic division\n",
    "    \n",
    "    Args:\n",
    "        numerator: numerator for our division function\n",
    "        denominator: denominator for our division function\n",
    "    \"\"\"\n",
    "    print(f\"Dividing {numerator} by {denominator}\")\n",
    "    div_result = numerator/denominator\n",
    "    return div_result\n",
    "    \n",
    "with cf.ThreadPoolExecutor() as executor:\n",
    "    nume = [5, 4, 3, 2, 1]\n",
    "    denom = [2, 1, 4, 0, 6]\n",
    "    results = [executor.submit(divide, n, d) for n, d in zip(nume, denom)]\n",
    "    \n",
    "    for f in cf.as_completed(results):\n",
    "        # We need to handle exception as we iterate through result\n",
    "        try:\n",
    "            print(f.result())\n",
    "        except Exception as e:\n",
    "            print(\"Exception occurred)\")\n",
    "            print(traceback.format_exc())\n",
    "\n",
    "finish = time.perf_counter()\n",
    "\n",
    "print(f\"Finished in {round(finish-start, 2)} second(s)\")"
   ]
  },
  {
   "cell_type": "markdown",
   "metadata": {},
   "source": [
    "# Downloading stuffs from Internet using Thread\n",
    "This is the example for network bound IO task"
   ]
  },
  {
   "cell_type": "code",
   "execution_count": 9,
   "metadata": {},
   "outputs": [
    {
     "name": "stdout",
     "output_type": "stream",
     "text": [
      "photo-1516117172878-fd2c41f4a759.jpg was downloaded...\n",
      "photo-1532009324734-20a7a5813719.jpg was downloaded...\n",
      "photo-1524429656589-6633a470097c.jpg was downloaded...\n",
      "photo-1530224264768-7ff8c1789d79.jpg was downloaded...\n",
      "photo-1564135624576-c5c88640f235.jpg was downloaded...\n",
      "photo-1541698444083-023c97d3f4b6.jpg was downloaded...\n",
      "photo-1522364723953-452d3431c267.jpg was downloaded...\n",
      "photo-1513938709626-033611b8cc03.jpg was downloaded...\n",
      "photo-1507143550189-fed454f93097.jpg was downloaded...\n",
      "photo-1493976040374-85c8e12f0c0e.jpg was downloaded...\n",
      "photo-1504198453319-5ce911bafcde.jpg was downloaded...\n",
      "photo-1530122037265-a5f1f91d3b99.jpg was downloaded...\n",
      "photo-1516972810927-80185027ca84.jpg was downloaded...\n",
      "photo-1550439062-609e1531270e.jpg was downloaded...\n",
      "photo-1549692520-acc6669e2f0c.jpg was downloaded...\n",
      "Finished in 26.457827560000002 seconds\n"
     ]
    }
   ],
   "source": [
    "# synchronous download\n",
    "\n",
    "import requests\n",
    "import time\n",
    "import concurrent.futures\n",
    "\n",
    "img_urls = [\n",
    "    'https://images.unsplash.com/photo-1516117172878-fd2c41f4a759',\n",
    "    'https://images.unsplash.com/photo-1532009324734-20a7a5813719',\n",
    "    'https://images.unsplash.com/photo-1524429656589-6633a470097c',\n",
    "    'https://images.unsplash.com/photo-1530224264768-7ff8c1789d79',\n",
    "    'https://images.unsplash.com/photo-1564135624576-c5c88640f235',\n",
    "    'https://images.unsplash.com/photo-1541698444083-023c97d3f4b6',\n",
    "    'https://images.unsplash.com/photo-1522364723953-452d3431c267',\n",
    "    'https://images.unsplash.com/photo-1513938709626-033611b8cc03',\n",
    "    'https://images.unsplash.com/photo-1507143550189-fed454f93097',\n",
    "    'https://images.unsplash.com/photo-1493976040374-85c8e12f0c0e',\n",
    "    'https://images.unsplash.com/photo-1504198453319-5ce911bafcde',\n",
    "    'https://images.unsplash.com/photo-1530122037265-a5f1f91d3b99',\n",
    "    'https://images.unsplash.com/photo-1516972810927-80185027ca84',\n",
    "    'https://images.unsplash.com/photo-1550439062-609e1531270e',\n",
    "    'https://images.unsplash.com/photo-1549692520-acc6669e2f0c'\n",
    "]\n",
    "\n",
    "t1 = time.perf_counter()\n",
    "\n",
    "\n",
    "def download_image(img_url):\n",
    "    img_bytes = requests.get(img_url).content\n",
    "    img_name = img_url.split('/')[3]\n",
    "    img_name = f'{img_name}.jpg'\n",
    "    with open(img_name, 'wb') as img_file:\n",
    "        img_file.write(img_bytes)\n",
    "        print(f'{img_name} was downloaded...')\n",
    "\n",
    "for url in img_urls:\n",
    "    download_image(url)\n",
    "\n",
    "t2 = time.perf_counter()\n",
    "\n",
    "print(f'Finished in {t2-t1} seconds')"
   ]
  },
  {
   "cell_type": "code",
   "execution_count": 10,
   "metadata": {
    "scrolled": true
   },
   "outputs": [
    {
     "name": "stdout",
     "output_type": "stream",
     "text": [
      "photo-1516117172878-fd2c41f4a759.jpg was downloaded...\n",
      "photo-1564135624576-c5c88640f235.jpg was downloaded...\n",
      "photo-1507143550189-fed454f93097.jpg was downloaded...\n",
      "photo-1549692520-acc6669e2f0c.jpg was downloaded...\n",
      "photo-1530224264768-7ff8c1789d79.jpg was downloaded...\n",
      "photo-1516972810927-80185027ca84.jpg was downloaded...\n",
      "photo-1504198453319-5ce911bafcde.jpg was downloaded...\n",
      "photo-1524429656589-6633a470097c.jpg was downloaded...\n",
      "photo-1530122037265-a5f1f91d3b99.jpg was downloaded...\n",
      "photo-1550439062-609e1531270e.jpg was downloaded...\n",
      "photo-1522364723953-452d3431c267.jpg was downloaded...\n",
      "photo-1513938709626-033611b8cc03.jpg was downloaded...\n",
      "photo-1532009324734-20a7a5813719.jpg was downloaded...\n",
      "photo-1541698444083-023c97d3f4b6.jpg was downloaded...\n",
      "photo-1493976040374-85c8e12f0c0e.jpg was downloaded...\n",
      "Finished in 11.623833784999995 seconds\n"
     ]
    }
   ],
   "source": [
    "# assynchronous download using thread concurrent\n",
    "\n",
    "import requests\n",
    "import time\n",
    "import concurrent.futures as cf\n",
    "\n",
    "img_urls = [\n",
    "    'https://images.unsplash.com/photo-1516117172878-fd2c41f4a759',\n",
    "    'https://images.unsplash.com/photo-1532009324734-20a7a5813719',\n",
    "    'https://images.unsplash.com/photo-1524429656589-6633a470097c',\n",
    "    'https://images.unsplash.com/photo-1530224264768-7ff8c1789d79',\n",
    "    'https://images.unsplash.com/photo-1564135624576-c5c88640f235',\n",
    "    'https://images.unsplash.com/photo-1541698444083-023c97d3f4b6',\n",
    "    'https://images.unsplash.com/photo-1522364723953-452d3431c267',\n",
    "    'https://images.unsplash.com/photo-1513938709626-033611b8cc03',\n",
    "    'https://images.unsplash.com/photo-1507143550189-fed454f93097',\n",
    "    'https://images.unsplash.com/photo-1493976040374-85c8e12f0c0e',\n",
    "    'https://images.unsplash.com/photo-1504198453319-5ce911bafcde',\n",
    "    'https://images.unsplash.com/photo-1530122037265-a5f1f91d3b99',\n",
    "    'https://images.unsplash.com/photo-1516972810927-80185027ca84',\n",
    "    'https://images.unsplash.com/photo-1550439062-609e1531270e',\n",
    "    'https://images.unsplash.com/photo-1549692520-acc6669e2f0c'\n",
    "]\n",
    "\n",
    "t1 = time.perf_counter()\n",
    "\n",
    "\n",
    "def download_image(img_url):\n",
    "    img_bytes = requests.get(img_url).content\n",
    "    img_name = img_url.split('/')[3]\n",
    "    img_name = f'{img_name}.jpg'\n",
    "    with open(img_name, 'wb') as img_file:\n",
    "        img_file.write(img_bytes)\n",
    "        return f'{img_name} was downloaded...'\n",
    "\n",
    "with cf.ThreadPoolExecutor() as executor:\n",
    "    futures = [executor.submit(download_image, url) for url in img_urls]\n",
    "    \n",
    "    for f in cf.as_completed(futures):\n",
    "        print(f.result())\n",
    "    \n",
    "t2 = time.perf_counter()\n",
    "\n",
    "print(f'Finished in {t2-t1} seconds')"
   ]
  },
  {
   "cell_type": "code",
   "execution_count": 12,
   "metadata": {},
   "outputs": [
    {
     "name": "stdout",
     "output_type": "stream",
     "text": [
      "38.95\n"
     ]
    }
   ],
   "source": [
    "# Percentage of speed gained:\n",
    "\n",
    "# Note: Speed entirery depends on your internet connection speed\n",
    "\n",
    "synchronous = 26.457827560000002\n",
    "asynchronous = 11.623833784999995\n",
    "\n",
    "percentage = round((synchronous-asynchronous)/(synchronous+asynchronous)*100, 2)\n",
    "print(percentage)"
   ]
  }
 ],
 "metadata": {
  "kernelspec": {
   "display_name": "Python 3",
   "language": "python",
   "name": "python3"
  },
  "language_info": {
   "codemirror_mode": {
    "name": "ipython",
    "version": 3
   },
   "file_extension": ".py",
   "mimetype": "text/x-python",
   "name": "python",
   "nbconvert_exporter": "python",
   "pygments_lexer": "ipython3",
   "version": "3.7.4"
  },
  "pycharm": {
   "stem_cell": {
    "cell_type": "raw",
    "metadata": {
     "collapsed": false
    },
    "source": []
   }
  }
 },
 "nbformat": 4,
 "nbformat_minor": 1
}
